{
 "cells": [
  {
   "cell_type": "code",
   "execution_count": null,
   "id": "23fb3021",
   "metadata": {},
   "outputs": [],
   "source": [
    "import re #importing regular expression library "
   ]
  },
  {
   "cell_type": "markdown",
   "id": "e40ed0be",
   "metadata": {},
   "source": [
    "using re.match"
   ]
  },
  {
   "cell_type": "code",
   "execution_count": 2,
   "id": "4f6ba1d6",
   "metadata": {},
   "outputs": [
    {
     "name": "stdout",
     "output_type": "stream",
     "text": [
      "<re.Match object; span=(0, 1), match='I'>\n"
     ]
    }
   ],
   "source": [
    "#to find the first occurence of the letter 'I' in the string\n",
    "\n",
    "sentence1 = re.match(r'I', 'I am learning text analytics')\n",
    "print(sentence1)"
   ]
  },
  {
   "cell_type": "code",
   "execution_count": 3,
   "id": "341d5e1d",
   "metadata": {},
   "outputs": [
    {
     "name": "stdout",
     "output_type": "stream",
     "text": [
      "None\n"
     ]
    }
   ],
   "source": [
    "#to find the first occurence of the letter 'v' in the string\n",
    "\n",
    "sentence2 = re.match(r'v', 'I am learning text analytics')\n",
    "print(sentence2)"
   ]
  },
  {
   "cell_type": "code",
   "execution_count": 4,
   "id": "d99c692b",
   "metadata": {},
   "outputs": [
    {
     "name": "stdout",
     "output_type": "stream",
     "text": [
      "None\n"
     ]
    }
   ],
   "source": [
    "#to find the first occurence of the letter 'am' in the string\n",
    "\n",
    "sentence3 = re.match(r'am', 'I am learning text analytics')\n",
    "print(sentence3)"
   ]
  },
  {
   "cell_type": "markdown",
   "id": "df65d880",
   "metadata": {},
   "source": [
    "re.search"
   ]
  },
  {
   "cell_type": "code",
   "execution_count": 5,
   "id": "096bfab3",
   "metadata": {},
   "outputs": [
    {
     "name": "stdout",
     "output_type": "stream",
     "text": [
      "<re.Match object; span=(2, 4), match='am'>\n"
     ]
    }
   ],
   "source": [
    "sentence4 = re.search(r'am', 'I am learning text analytics')\n",
    "print(sentence4)"
   ]
  },
  {
   "cell_type": "code",
   "execution_count": 6,
   "id": "8ce734c8",
   "metadata": {},
   "outputs": [
    {
     "name": "stdout",
     "output_type": "stream",
     "text": [
      "<re.Match object; span=(2, 4), match='am'>\n"
     ]
    }
   ],
   "source": [
    "sentence5 = re.search(r'am', 'I am learning text analytics and am enjoying it')\n",
    "print(sentence5)"
   ]
  },
  {
   "cell_type": "markdown",
   "id": "a4ed38e6",
   "metadata": {},
   "source": [
    "re.findall"
   ]
  },
  {
   "cell_type": "code",
   "execution_count": 7,
   "id": "44ee2b80",
   "metadata": {},
   "outputs": [
    {
     "name": "stdout",
     "output_type": "stream",
     "text": [
      "['am', 'am']\n"
     ]
    }
   ],
   "source": [
    "sentence6 = re.findall(r'am', 'I am learning text analytics and am enjoing it')\n",
    "print(sentence6)"
   ]
  },
  {
   "cell_type": "markdown",
   "id": "0d8533bd",
   "metadata": {},
   "source": [
    "re.split"
   ]
  },
  {
   "cell_type": "code",
   "execution_count": 8,
   "id": "cd65864a",
   "metadata": {},
   "outputs": [
    {
     "name": "stdout",
     "output_type": "stream",
     "text": [
      "['I am learning text analytics ', ' am enjoying it']\n"
     ]
    }
   ],
   "source": [
    "sentence7 = re.split(r'and', 'I am learning text analytics and am enjoying it')\n",
    "print(sentence7)"
   ]
  },
  {
   "cell_type": "code",
   "execution_count": 9,
   "id": "73f6ff70",
   "metadata": {},
   "outputs": [
    {
     "name": "stdout",
     "output_type": "stream",
     "text": [
      "['I ', ' learning text analytics and ', ' enjoying it']\n"
     ]
    }
   ],
   "source": [
    "sentence8 = re.split(r'am', 'I am learning text analytics and am enjoying it')\n",
    "print(sentence8)"
   ]
  },
  {
   "cell_type": "code",
   "execution_count": 11,
   "id": "c731187f",
   "metadata": {},
   "outputs": [
    {
     "name": "stdout",
     "output_type": "stream",
     "text": [
      "['I ', ' learning text analytics and am enjoying it']\n"
     ]
    }
   ],
   "source": [
    "sentence9 = re.split(r'am', 'I am learning text analytics and am enjoying it', maxsplit = 1)\n",
    "print(sentence9)"
   ]
  },
  {
   "cell_type": "code",
   "execution_count": 12,
   "id": "e5e3d60c",
   "metadata": {},
   "outputs": [
    {
     "name": "stdout",
     "output_type": "stream",
     "text": [
      "['I ', ' learning text analytics and ', ' enjoying it']\n"
     ]
    }
   ],
   "source": [
    "sentence10 = re.split(r'am', 'I am learning text analytics and am enjoying it', maxsplit = 2)\n",
    "print(sentence10)"
   ]
  },
  {
   "cell_type": "code",
   "execution_count": 13,
   "id": "ec5d2214",
   "metadata": {},
   "outputs": [
    {
     "name": "stdout",
     "output_type": "stream",
     "text": [
      "['I ', ' learning text analytics, I ', ' enjoying it and I ', ' going to ace it']\n"
     ]
    }
   ],
   "source": [
    "sentence11 = re.split(r'am', 'I am learning text analytics, I am enjoying it and I am going to ace it', maxsplit=3) \n",
    "print (sentence11)"
   ]
  },
  {
   "cell_type": "markdown",
   "id": "ff2d9903",
   "metadata": {},
   "source": [
    "re.sub"
   ]
  },
  {
   "cell_type": "code",
   "execution_count": 16,
   "id": "32d4438e",
   "metadata": {},
   "outputs": [
    {
     "name": "stdout",
     "output_type": "stream",
     "text": [
      "we like text analytics and we enjoy learning it\n"
     ]
    }
   ],
   "source": [
    "sentence12 = re.sub(r'I', 'we', 'I like text analytics and I enjoy learning it')\n",
    "print(sentence12)"
   ]
  },
  {
   "cell_type": "markdown",
   "id": "5a9a2061",
   "metadata": {},
   "source": [
    "### Using Metacharacters"
   ]
  },
  {
   "cell_type": "markdown",
   "id": "bf97ce6e",
   "metadata": {},
   "source": [
    "Metachar ."
   ]
  },
  {
   "cell_type": "code",
   "execution_count": 17,
   "id": "0f5e168b",
   "metadata": {},
   "outputs": [
    {
     "name": "stdout",
     "output_type": "stream",
     "text": [
      "['I', ' ', 'a', 'm', ' ', 'l', 'e', 'a', 'r', 'n', 'i', 'n', 'g', ' ', 't', 'e', 'x', 't', ' ', 'a', 'n', 'a', 'l', 'y', 't', 'i', 'c', 's']\n"
     ]
    }
   ],
   "source": [
    "sent1 = re.findall(r'.', 'I am learning text analytics')\n",
    "print(sent1) #return each letter including spaces"
   ]
  },
  {
   "cell_type": "markdown",
   "id": "a3444b16",
   "metadata": {},
   "source": [
    "Metachar \\w"
   ]
  },
  {
   "cell_type": "code",
   "execution_count": 19,
   "id": "16868f4b",
   "metadata": {},
   "outputs": [
    {
     "name": "stdout",
     "output_type": "stream",
     "text": [
      "['I', 'a', 'm', 'l', 'e', 'a', 'r', 'n', 'i', 'n', 'g', 't', 'e', 'x', 't', 'a', 'n', 'a', 'l', 'y', 't', 'i', 'c', 's']\n"
     ]
    }
   ],
   "source": [
    "sent2 = re.findall(r'\\w', 'I am learning text analytics')\n",
    "print(sent2) #return each letter excluding spaces"
   ]
  },
  {
   "cell_type": "markdown",
   "id": "18d6d266",
   "metadata": {},
   "source": [
    "Metachar \\w*"
   ]
  },
  {
   "cell_type": "code",
   "execution_count": 20,
   "id": "f74c9477",
   "metadata": {},
   "outputs": [
    {
     "name": "stdout",
     "output_type": "stream",
     "text": [
      "['I', '', 'am', '', 'learning', '', 'text', '', 'analytics', '']\n"
     ]
    }
   ],
   "source": [
    "sent3 = re.findall(r'\\w*', 'I am learning text analytics')\n",
    "print(sent3)\n",
    "#return each word including spaces"
   ]
  },
  {
   "cell_type": "markdown",
   "id": "c13adaae",
   "metadata": {},
   "source": [
    "Metachar \\w+"
   ]
  },
  {
   "cell_type": "code",
   "execution_count": 23,
   "id": "b5c44a96",
   "metadata": {},
   "outputs": [
    {
     "name": "stdout",
     "output_type": "stream",
     "text": [
      "['I', 'am', 'learning', 'text', 'analytics']\n"
     ]
    }
   ],
   "source": [
    "sent4 = re.findall(r'\\w+', 'I am learning text analytics')\n",
    "print(sent4)\n",
    "#return each word excluding spaces"
   ]
  },
  {
   "cell_type": "markdown",
   "id": "0f8cf716",
   "metadata": {},
   "source": [
    "Metachar ^\\w+"
   ]
  },
  {
   "cell_type": "code",
   "execution_count": 25,
   "id": "36abb833",
   "metadata": {},
   "outputs": [
    {
     "name": "stdout",
     "output_type": "stream",
     "text": [
      "['I']\n"
     ]
    }
   ],
   "source": [
    "sent5 = re.findall(r'^\\w+', 'I am learning text analytics')\n",
    "print(sent5)\n",
    "#return the first word"
   ]
  },
  {
   "cell_type": "markdown",
   "id": "a0772ebb",
   "metadata": {},
   "source": [
    "Metachar \\w+$"
   ]
  },
  {
   "cell_type": "code",
   "execution_count": 27,
   "id": "df777644",
   "metadata": {},
   "outputs": [
    {
     "name": "stdout",
     "output_type": "stream",
     "text": [
      "['analytics']\n"
     ]
    }
   ],
   "source": [
    "sent6 = re.findall(r'\\w+$', 'I am learning text analytics')\n",
    "print(sent6)\n",
    "#return the last word"
   ]
  },
  {
   "cell_type": "markdown",
   "id": "36a1b662",
   "metadata": {},
   "source": [
    "Metachar \\w\\w"
   ]
  },
  {
   "cell_type": "code",
   "execution_count": 29,
   "id": "0d5b3587",
   "metadata": {},
   "outputs": [
    {
     "name": "stdout",
     "output_type": "stream",
     "text": [
      "['am', 'le', 'ar', 'ni', 'ng', 'te', 'xt', 'an', 'al', 'yt', 'ic']\n"
     ]
    }
   ],
   "source": [
    "sent7 = re.findall(r'\\w\\w', 'I am learning text analytics')\n",
    "print(sent7)\n",
    "#2 chars are selected"
   ]
  },
  {
   "cell_type": "markdown",
   "id": "a8cb2dd0",
   "metadata": {},
   "source": [
    "Metachar \\b\\w\\w"
   ]
  },
  {
   "cell_type": "code",
   "execution_count": 39,
   "id": "949183c6",
   "metadata": {},
   "outputs": [
    {
     "name": "stdout",
     "output_type": "stream",
     "text": [
      "['am', 'le', 'te', 'an']\n"
     ]
    }
   ],
   "source": [
    "sent8 = re.findall (r'\\b\\w\\w', 'I am learning text analytics') \n",
    "print (sent8) \n",
    " \n",
    "# 2 consecutive characters in a string are selected"
   ]
  },
  {
   "cell_type": "markdown",
   "id": "7ba672fb",
   "metadata": {},
   "source": [
    "### Extracting the domain type of email address"
   ]
  },
  {
   "cell_type": "code",
   "execution_count": 41,
   "id": "51fe9b83",
   "metadata": {},
   "outputs": [
    {
     "name": "stdout",
     "output_type": "stream",
     "text": [
      "['@text', '@analytics', '@textanalytics']\n"
     ]
    }
   ],
   "source": [
    "sent9 = re.findall(r'@\\w+', 'user@text.com.my, user@analytics.gov.my, user@textanalytics.edu.my')\n",
    "print(sent9)"
   ]
  },
  {
   "cell_type": "code",
   "execution_count": 42,
   "id": "a375537c",
   "metadata": {},
   "outputs": [
    {
     "name": "stdout",
     "output_type": "stream",
     "text": [
      "['@text.com', '@analytics.gov', '@textanalytics.edu']\n"
     ]
    }
   ],
   "source": [
    "sent10 = re.findall(r'@\\w+.\\w+', 'user@text.com.my, user@analytics.gov.my, user@textanalytics.edu.my')\n",
    "print(sent10)"
   ]
  },
  {
   "cell_type": "code",
   "execution_count": 43,
   "id": "2cd54c20",
   "metadata": {},
   "outputs": [
    {
     "name": "stdout",
     "output_type": "stream",
     "text": [
      "['@text.com.my', '@analytics.gov.my', '@textanalytics.edu.my']\n"
     ]
    }
   ],
   "source": [
    "sent11 = re.findall(r'@\\w+.\\w+.\\w+', 'user@text.com.my, user@analytics.gov.my, user@textanalytics.edu.my')\n",
    "print(sent11)"
   ]
  },
  {
   "cell_type": "code",
   "execution_count": 44,
   "id": "71ff7a4b",
   "metadata": {},
   "outputs": [
    {
     "name": "stdout",
     "output_type": "stream",
     "text": [
      "['com.my', 'gov.my', 'edu.my']\n"
     ]
    }
   ],
   "source": [
    "sent12 = re.findall(r'@\\w+.(\\w+.\\w+)', 'user@text.com.my, user@analytics.gov.my, user@textanalytics.edu.my')\n",
    "print(sent12)"
   ]
  },
  {
   "cell_type": "markdown",
   "id": "8a140902",
   "metadata": {},
   "source": [
    "### Extracting date"
   ]
  },
  {
   "cell_type": "code",
   "execution_count": 46,
   "id": "15c872d1",
   "metadata": {},
   "outputs": [
    {
     "name": "stdout",
     "output_type": "stream",
     "text": [
      "['15-05-20', '20-08-20']\n"
     ]
    }
   ],
   "source": [
    "sent13 = re.findall(r'\\d{2}-\\d{2}-\\d{2}', 'Ahmad BIT(IS) 15-05-2001, Johnny BCS(SE) 20-08-2000')\n",
    "print(sent13)\n",
    "# To display the date in the format of dd-mm-yy "
   ]
  },
  {
   "cell_type": "code",
   "execution_count": 47,
   "id": "8d8e2c8b",
   "metadata": {},
   "outputs": [
    {
     "name": "stdout",
     "output_type": "stream",
     "text": [
      "['15-05-2001', '20-08-2000']\n"
     ]
    }
   ],
   "source": [
    "sent14 = re.findall (r'\\d{2}-\\d{2}-\\d{4}', 'Ahmad BIT(IS) 15-05-2001, Johnny BCS(SE) 20-08-2000')\n",
    "print (sent14)\n",
    "# To display the date in the format of dd-mm-yyyy "
   ]
  },
  {
   "cell_type": "code",
   "execution_count": 48,
   "id": "ebccd27d",
   "metadata": {},
   "outputs": [
    {
     "name": "stdout",
     "output_type": "stream",
     "text": [
      "['2001', '2000']\n"
     ]
    }
   ],
   "source": [
    "sent15 = re.findall (r'\\d{2}-\\d{2}-(\\d{4})', 'Ahmad BIT(IS) 15-05-2001, Johnny BCS(SE) 20-08-2000')\n",
    "print (sent15) \n",
    "# Only the year will be displayed "
   ]
  },
  {
   "cell_type": "code",
   "execution_count": 57,
   "id": "9a885848",
   "metadata": {},
   "outputs": [
    {
     "name": "stdout",
     "output_type": "stream",
     "text": [
      "['01', '00']\n"
     ]
    }
   ],
   "source": [
    "sent16 = re.findall (r'\\d{2}-\\d{2}-\\d{2}(\\d{2})', 'Ahmad BIT(IS) 15-05-2001, Johnny BCS(SE) 20-08-2000')\n",
    "print (sent16) \n",
    " \n",
    "#to display [yy]"
   ]
  },
  {
   "cell_type": "code",
   "execution_count": 62,
   "id": "8c3ad78b",
   "metadata": {},
   "outputs": [
    {
     "name": "stdout",
     "output_type": "stream",
     "text": [
      "['15-05-01', '20-08-00']\n"
     ]
    }
   ],
   "source": [
    "from datetime import datetime\n",
    "\n",
    "sent17 = re.findall (r'\\d{2}-\\d{2}-\\d{4}', 'Ahmad BIT(IS) 15-05-2001, Johnny BCS(SE) 20-08-2000')\n",
    "formatted_dates = [datetime.strptime(match,'%d-%m-%Y').strftime('%d-%m-%y') for match in sent17]\n",
    "print (formatted_dates) \n",
    " \n",
    "#to display [dd-mm-yy]"
   ]
  }
 ],
 "metadata": {
  "kernelspec": {
   "display_name": "Python 3 (ipykernel)",
   "language": "python",
   "name": "python3"
  },
  "language_info": {
   "codemirror_mode": {
    "name": "ipython",
    "version": 3
   },
   "file_extension": ".py",
   "mimetype": "text/x-python",
   "name": "python",
   "nbconvert_exporter": "python",
   "pygments_lexer": "ipython3",
   "version": "3.11.5"
  }
 },
 "nbformat": 4,
 "nbformat_minor": 5
}
